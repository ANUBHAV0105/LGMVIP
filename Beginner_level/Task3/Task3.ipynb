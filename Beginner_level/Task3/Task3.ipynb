{
  "nbformat": 4,
  "nbformat_minor": 0,
  "metadata": {
    "colab": {
      "name": "Task3.ipynb",
      "provenance": [],
      "collapsed_sections": []
    },
    "kernelspec": {
      "name": "python3",
      "display_name": "Python 3"
    },
    "language_info": {
      "name": "python"
    }
  },
  "cells": [
    {
      "cell_type": "markdown",
      "source": [
        "Importing Libraries."
      ],
      "metadata": {
        "id": "IJn8hhSMZsPI"
      }
    },
    {
      "cell_type": "code",
      "source": [
        "from sklearn.model_selection import cross_validate\n",
        "from sklearn.model_selection import GridSearchCV\n",
        "from sklearn.model_selection import train_test_split\n",
        "from sklearn import ensemble, metrics\n",
        "import xgboost as xgb\n",
        "import numpy as np\n",
        "import pandas as pd\n",
        "import seaborn as sns\n",
        "import matplotlib.pyplot as plt\n",
        "import matplotlib as mpl\n",
        "import warnings"
      ],
      "metadata": {
        "id": "_T8ZE3Mry2fw"
      },
      "execution_count": null,
      "outputs": []
    },
    {
      "cell_type": "markdown",
      "source": [
        "Importing Datasets and preprocessing of Data."
      ],
      "metadata": {
        "id": "bmDKkyVuZ4yv"
      }
    },
    {
      "cell_type": "code",
      "source": [
        "df = pd.read_csv('train.csv')"
      ],
      "metadata": {
        "id": "nLUFOQEfzXbR"
      },
      "execution_count": null,
      "outputs": []
    },
    {
      "cell_type": "code",
      "source": [
        "df.head()"
      ],
      "metadata": {
        "colab": {
          "base_uri": "https://localhost:8080/",
          "height": 305
        },
        "id": "hKe3mor72oGY",
        "outputId": "3ac85dbb-37d1-4821-ebd5-e1b10c9d107b"
      },
      "execution_count": null,
      "outputs": [
        {
          "output_type": "execute_result",
          "data": {
            "text/plain": [
              "                                           msno  \\\n",
              "0  FGtllVqz18RPiwJj/edr2gV78zirAiY/9SmYvia+kCg=   \n",
              "1  Xumu+NIjS6QYVxDS4/t3SawvJ7viT9hPKXmf0RtLNx8=   \n",
              "2  Xumu+NIjS6QYVxDS4/t3SawvJ7viT9hPKXmf0RtLNx8=   \n",
              "3  Xumu+NIjS6QYVxDS4/t3SawvJ7viT9hPKXmf0RtLNx8=   \n",
              "4  FGtllVqz18RPiwJj/edr2gV78zirAiY/9SmYvia+kCg=   \n",
              "\n",
              "                                        song_id source_system_tab  \\\n",
              "0  BBzumQNXUHKdEBOB7mAJuzok+IJA1c2Ryg/yzTF6tik=           explore   \n",
              "1  bhp/MpSNoqoxOIB+/l8WPqu6jldth4DIpCm3ayXnJqM=        my library   \n",
              "2  JNWfrrC7zNN7BdMpsISKa4Mw+xVJYNnxXh3/Epw7QgY=        my library   \n",
              "3  2A87tzfnJTSWqD7gIZHisolhe4DMdzkbd6LzO1KHjNs=        my library   \n",
              "4  3qm6XTZ6MOCU11x8FIVbAGH5l5uMkT3/ZalWG1oo2Gc=           explore   \n",
              "\n",
              "    source_screen_name      source_type  target  \n",
              "0              Explore  online-playlist     1.0  \n",
              "1  Local playlist more   local-playlist     1.0  \n",
              "2  Local playlist more   local-playlist     1.0  \n",
              "3  Local playlist more   local-playlist     1.0  \n",
              "4              Explore  online-playlist     1.0  "
            ],
            "text/html": [
              "\n",
              "  <div id=\"df-34f31fa8-cf7e-4c5f-aa06-09c6c5decc35\">\n",
              "    <div class=\"colab-df-container\">\n",
              "      <div>\n",
              "<style scoped>\n",
              "    .dataframe tbody tr th:only-of-type {\n",
              "        vertical-align: middle;\n",
              "    }\n",
              "\n",
              "    .dataframe tbody tr th {\n",
              "        vertical-align: top;\n",
              "    }\n",
              "\n",
              "    .dataframe thead th {\n",
              "        text-align: right;\n",
              "    }\n",
              "</style>\n",
              "<table border=\"1\" class=\"dataframe\">\n",
              "  <thead>\n",
              "    <tr style=\"text-align: right;\">\n",
              "      <th></th>\n",
              "      <th>msno</th>\n",
              "      <th>song_id</th>\n",
              "      <th>source_system_tab</th>\n",
              "      <th>source_screen_name</th>\n",
              "      <th>source_type</th>\n",
              "      <th>target</th>\n",
              "    </tr>\n",
              "  </thead>\n",
              "  <tbody>\n",
              "    <tr>\n",
              "      <th>0</th>\n",
              "      <td>FGtllVqz18RPiwJj/edr2gV78zirAiY/9SmYvia+kCg=</td>\n",
              "      <td>BBzumQNXUHKdEBOB7mAJuzok+IJA1c2Ryg/yzTF6tik=</td>\n",
              "      <td>explore</td>\n",
              "      <td>Explore</td>\n",
              "      <td>online-playlist</td>\n",
              "      <td>1.0</td>\n",
              "    </tr>\n",
              "    <tr>\n",
              "      <th>1</th>\n",
              "      <td>Xumu+NIjS6QYVxDS4/t3SawvJ7viT9hPKXmf0RtLNx8=</td>\n",
              "      <td>bhp/MpSNoqoxOIB+/l8WPqu6jldth4DIpCm3ayXnJqM=</td>\n",
              "      <td>my library</td>\n",
              "      <td>Local playlist more</td>\n",
              "      <td>local-playlist</td>\n",
              "      <td>1.0</td>\n",
              "    </tr>\n",
              "    <tr>\n",
              "      <th>2</th>\n",
              "      <td>Xumu+NIjS6QYVxDS4/t3SawvJ7viT9hPKXmf0RtLNx8=</td>\n",
              "      <td>JNWfrrC7zNN7BdMpsISKa4Mw+xVJYNnxXh3/Epw7QgY=</td>\n",
              "      <td>my library</td>\n",
              "      <td>Local playlist more</td>\n",
              "      <td>local-playlist</td>\n",
              "      <td>1.0</td>\n",
              "    </tr>\n",
              "    <tr>\n",
              "      <th>3</th>\n",
              "      <td>Xumu+NIjS6QYVxDS4/t3SawvJ7viT9hPKXmf0RtLNx8=</td>\n",
              "      <td>2A87tzfnJTSWqD7gIZHisolhe4DMdzkbd6LzO1KHjNs=</td>\n",
              "      <td>my library</td>\n",
              "      <td>Local playlist more</td>\n",
              "      <td>local-playlist</td>\n",
              "      <td>1.0</td>\n",
              "    </tr>\n",
              "    <tr>\n",
              "      <th>4</th>\n",
              "      <td>FGtllVqz18RPiwJj/edr2gV78zirAiY/9SmYvia+kCg=</td>\n",
              "      <td>3qm6XTZ6MOCU11x8FIVbAGH5l5uMkT3/ZalWG1oo2Gc=</td>\n",
              "      <td>explore</td>\n",
              "      <td>Explore</td>\n",
              "      <td>online-playlist</td>\n",
              "      <td>1.0</td>\n",
              "    </tr>\n",
              "  </tbody>\n",
              "</table>\n",
              "</div>\n",
              "      <button class=\"colab-df-convert\" onclick=\"convertToInteractive('df-34f31fa8-cf7e-4c5f-aa06-09c6c5decc35')\"\n",
              "              title=\"Convert this dataframe to an interactive table.\"\n",
              "              style=\"display:none;\">\n",
              "        \n",
              "  <svg xmlns=\"http://www.w3.org/2000/svg\" height=\"24px\"viewBox=\"0 0 24 24\"\n",
              "       width=\"24px\">\n",
              "    <path d=\"M0 0h24v24H0V0z\" fill=\"none\"/>\n",
              "    <path d=\"M18.56 5.44l.94 2.06.94-2.06 2.06-.94-2.06-.94-.94-2.06-.94 2.06-2.06.94zm-11 1L8.5 8.5l.94-2.06 2.06-.94-2.06-.94L8.5 2.5l-.94 2.06-2.06.94zm10 10l.94 2.06.94-2.06 2.06-.94-2.06-.94-.94-2.06-.94 2.06-2.06.94z\"/><path d=\"M17.41 7.96l-1.37-1.37c-.4-.4-.92-.59-1.43-.59-.52 0-1.04.2-1.43.59L10.3 9.45l-7.72 7.72c-.78.78-.78 2.05 0 2.83L4 21.41c.39.39.9.59 1.41.59.51 0 1.02-.2 1.41-.59l7.78-7.78 2.81-2.81c.8-.78.8-2.07 0-2.86zM5.41 20L4 18.59l7.72-7.72 1.47 1.35L5.41 20z\"/>\n",
              "  </svg>\n",
              "      </button>\n",
              "      \n",
              "  <style>\n",
              "    .colab-df-container {\n",
              "      display:flex;\n",
              "      flex-wrap:wrap;\n",
              "      gap: 12px;\n",
              "    }\n",
              "\n",
              "    .colab-df-convert {\n",
              "      background-color: #E8F0FE;\n",
              "      border: none;\n",
              "      border-radius: 50%;\n",
              "      cursor: pointer;\n",
              "      display: none;\n",
              "      fill: #1967D2;\n",
              "      height: 32px;\n",
              "      padding: 0 0 0 0;\n",
              "      width: 32px;\n",
              "    }\n",
              "\n",
              "    .colab-df-convert:hover {\n",
              "      background-color: #E2EBFA;\n",
              "      box-shadow: 0px 1px 2px rgba(60, 64, 67, 0.3), 0px 1px 3px 1px rgba(60, 64, 67, 0.15);\n",
              "      fill: #174EA6;\n",
              "    }\n",
              "\n",
              "    [theme=dark] .colab-df-convert {\n",
              "      background-color: #3B4455;\n",
              "      fill: #D2E3FC;\n",
              "    }\n",
              "\n",
              "    [theme=dark] .colab-df-convert:hover {\n",
              "      background-color: #434B5C;\n",
              "      box-shadow: 0px 1px 3px 1px rgba(0, 0, 0, 0.15);\n",
              "      filter: drop-shadow(0px 1px 2px rgba(0, 0, 0, 0.3));\n",
              "      fill: #FFFFFF;\n",
              "    }\n",
              "  </style>\n",
              "\n",
              "      <script>\n",
              "        const buttonEl =\n",
              "          document.querySelector('#df-34f31fa8-cf7e-4c5f-aa06-09c6c5decc35 button.colab-df-convert');\n",
              "        buttonEl.style.display =\n",
              "          google.colab.kernel.accessAllowed ? 'block' : 'none';\n",
              "\n",
              "        async function convertToInteractive(key) {\n",
              "          const element = document.querySelector('#df-34f31fa8-cf7e-4c5f-aa06-09c6c5decc35');\n",
              "          const dataTable =\n",
              "            await google.colab.kernel.invokeFunction('convertToInteractive',\n",
              "                                                     [key], {});\n",
              "          if (!dataTable) return;\n",
              "\n",
              "          const docLinkHtml = 'Like what you see? Visit the ' +\n",
              "            '<a target=\"_blank\" href=https://colab.research.google.com/notebooks/data_table.ipynb>data table notebook</a>'\n",
              "            + ' to learn more about interactive tables.';\n",
              "          element.innerHTML = '';\n",
              "          dataTable['output_type'] = 'display_data';\n",
              "          await google.colab.output.renderOutput(dataTable, element);\n",
              "          const docLink = document.createElement('div');\n",
              "          docLink.innerHTML = docLinkHtml;\n",
              "          element.appendChild(docLink);\n",
              "        }\n",
              "      </script>\n",
              "    </div>\n",
              "  </div>\n",
              "  "
            ]
          },
          "metadata": {},
          "execution_count": 24
        }
      ]
    },
    {
      "cell_type": "code",
      "source": [
        "df.shape"
      ],
      "metadata": {
        "colab": {
          "base_uri": "https://localhost:8080/"
        },
        "id": "tZzpU_942rdo",
        "outputId": "f9a71c51-de37-4e59-d7ed-3a9a3ecdbe6c"
      },
      "execution_count": null,
      "outputs": [
        {
          "output_type": "execute_result",
          "data": {
            "text/plain": [
              "(1066395, 6)"
            ]
          },
          "metadata": {},
          "execution_count": 25
        }
      ]
    },
    {
      "cell_type": "code",
      "source": [
        "df = df.sample(frac=0.1)"
      ],
      "metadata": {
        "id": "M7f6QHwf2vRI"
      },
      "execution_count": null,
      "outputs": []
    },
    {
      "cell_type": "code",
      "source": [
        "df.info()"
      ],
      "metadata": {
        "colab": {
          "base_uri": "https://localhost:8080/"
        },
        "id": "HSB2YiCN2x7w",
        "outputId": "ec8f2103-6ba6-49af-d2c4-a10b3ce6a11a"
      },
      "execution_count": null,
      "outputs": [
        {
          "output_type": "stream",
          "name": "stdout",
          "text": [
            "<class 'pandas.core.frame.DataFrame'>\n",
            "Int64Index: 106640 entries, 259607 to 166929\n",
            "Data columns (total 6 columns):\n",
            " #   Column              Non-Null Count   Dtype  \n",
            "---  ------              --------------   -----  \n",
            " 0   msno                106640 non-null  object \n",
            " 1   song_id             106640 non-null  object \n",
            " 2   source_system_tab   106323 non-null  object \n",
            " 3   source_screen_name  101760 non-null  object \n",
            " 4   source_type         106346 non-null  object \n",
            " 5   target              106640 non-null  float64\n",
            "dtypes: float64(1), object(5)\n",
            "memory usage: 5.7+ MB\n"
          ]
        }
      ]
    },
    {
      "cell_type": "code",
      "source": [
        "songs = pd.read_csv('/content/songs.csv')"
      ],
      "metadata": {
        "id": "aO-v79rv3MtJ"
      },
      "execution_count": null,
      "outputs": []
    },
    {
      "cell_type": "code",
      "source": [
        "songs.info()"
      ],
      "metadata": {
        "colab": {
          "base_uri": "https://localhost:8080/"
        },
        "id": "QjyAgCRR3QKn",
        "outputId": "85892566-74f7-4688-b759-ac34169b75b5"
      },
      "execution_count": null,
      "outputs": [
        {
          "output_type": "stream",
          "name": "stdout",
          "text": [
            "<class 'pandas.core.frame.DataFrame'>\n",
            "RangeIndex: 1493394 entries, 0 to 1493393\n",
            "Data columns (total 7 columns):\n",
            " #   Column       Non-Null Count    Dtype  \n",
            "---  ------       --------------    -----  \n",
            " 0   song_id      1493394 non-null  object \n",
            " 1   song_length  1493393 non-null  float64\n",
            " 2   genre_ids    1436069 non-null  object \n",
            " 3   artist_name  1493393 non-null  object \n",
            " 4   composer     804182 non-null   object \n",
            " 5   lyricist     246519 non-null   object \n",
            " 6   language     1493392 non-null  float64\n",
            "dtypes: float64(2), object(5)\n",
            "memory usage: 79.8+ MB\n"
          ]
        }
      ]
    },
    {
      "cell_type": "code",
      "source": [
        "df = pd.merge(df, songs, on='song_id', how='left')\n",
        "del songs"
      ],
      "metadata": {
        "id": "FMc_i5UOxvcr"
      },
      "execution_count": null,
      "outputs": []
    },
    {
      "cell_type": "code",
      "source": [
        "df.info()"
      ],
      "metadata": {
        "colab": {
          "base_uri": "https://localhost:8080/"
        },
        "id": "5NT-ThJzx23f",
        "outputId": "bb92fd19-eb12-4f59-a70c-a789df9230a5"
      },
      "execution_count": null,
      "outputs": [
        {
          "output_type": "stream",
          "name": "stdout",
          "text": [
            "<class 'pandas.core.frame.DataFrame'>\n",
            "Int64Index: 106640 entries, 0 to 106639\n",
            "Data columns (total 12 columns):\n",
            " #   Column              Non-Null Count   Dtype  \n",
            "---  ------              --------------   -----  \n",
            " 0   msno                106640 non-null  object \n",
            " 1   song_id             106640 non-null  object \n",
            " 2   source_system_tab   106323 non-null  object \n",
            " 3   source_screen_name  101760 non-null  object \n",
            " 4   source_type         106346 non-null  object \n",
            " 5   target              106640 non-null  float64\n",
            " 6   song_length         96696 non-null   float64\n",
            " 7   genre_ids           95235 non-null   object \n",
            " 8   artist_name         96696 non-null   object \n",
            " 9   composer            76116 non-null   object \n",
            " 10  lyricist            57024 non-null   object \n",
            " 11  language            96695 non-null   float64\n",
            "dtypes: float64(3), object(9)\n",
            "memory usage: 10.6+ MB\n"
          ]
        }
      ]
    },
    {
      "cell_type": "code",
      "source": [
        "members = pd.read_csv('members.csv')"
      ],
      "metadata": {
        "id": "r6cx7cxkYGC-"
      },
      "execution_count": null,
      "outputs": []
    },
    {
      "cell_type": "code",
      "source": [
        "df = pd.merge(df, members, on='msno', how='left')\n",
        "del members"
      ],
      "metadata": {
        "id": "XaRmfno0YKbk"
      },
      "execution_count": null,
      "outputs": []
    },
    {
      "cell_type": "code",
      "source": [
        "df.info()"
      ],
      "metadata": {
        "colab": {
          "base_uri": "https://localhost:8080/"
        },
        "id": "oqayZkHmYOik",
        "outputId": "bd6b33d5-00d1-4f78-cfb3-ebf6978241a6"
      },
      "execution_count": null,
      "outputs": [
        {
          "output_type": "stream",
          "name": "stdout",
          "text": [
            "<class 'pandas.core.frame.DataFrame'>\n",
            "Int64Index: 106640 entries, 0 to 106639\n",
            "Data columns (total 18 columns):\n",
            " #   Column                  Non-Null Count   Dtype  \n",
            "---  ------                  --------------   -----  \n",
            " 0   msno                    106640 non-null  object \n",
            " 1   song_id                 106640 non-null  object \n",
            " 2   source_system_tab       106323 non-null  object \n",
            " 3   source_screen_name      101760 non-null  object \n",
            " 4   source_type             106346 non-null  object \n",
            " 5   target                  106640 non-null  float64\n",
            " 6   song_length             96696 non-null   float64\n",
            " 7   genre_ids               95235 non-null   object \n",
            " 8   artist_name             96696 non-null   object \n",
            " 9   composer                76116 non-null   object \n",
            " 10  lyricist                57024 non-null   object \n",
            " 11  language                96695 non-null   float64\n",
            " 12  city                    106640 non-null  int64  \n",
            " 13  bd                      106640 non-null  int64  \n",
            " 14  gender                  64448 non-null   object \n",
            " 15  registered_via          106640 non-null  int64  \n",
            " 16  registration_init_time  106640 non-null  int64  \n",
            " 17  expiration_date         106640 non-null  int64  \n",
            "dtypes: float64(3), int64(5), object(10)\n",
            "memory usage: 15.5+ MB\n"
          ]
        }
      ]
    },
    {
      "cell_type": "markdown",
      "source": [
        "Replace NA"
      ],
      "metadata": {
        "id": "QdGi2d1DaAsx"
      }
    },
    {
      "cell_type": "code",
      "source": [
        "for i in df.select_dtypes(include=['object']).columns:\n",
        "    df[i][df[i].isnull()] = 'unknown'\n",
        "df = df.fillna(value=0)"
      ],
      "metadata": {
        "colab": {
          "base_uri": "https://localhost:8080/"
        },
        "id": "_HVY7pxwYReN",
        "outputId": "af168ee0-828b-4c3a-eaad-a792319a5cb6"
      },
      "execution_count": null,
      "outputs": [
        {
          "output_type": "stream",
          "name": "stderr",
          "text": [
            "/usr/local/lib/python3.7/dist-packages/ipykernel_launcher.py:2: SettingWithCopyWarning: \n",
            "A value is trying to be set on a copy of a slice from a DataFrame\n",
            "\n",
            "See the caveats in the documentation: https://pandas.pydata.org/pandas-docs/stable/user_guide/indexing.html#returning-a-view-versus-a-copy\n",
            "  \n"
          ]
        }
      ]
    },
    {
      "cell_type": "code",
      "source": [
        "df.info()"
      ],
      "metadata": {
        "colab": {
          "base_uri": "https://localhost:8080/"
        },
        "id": "M-tXkHaAYTr8",
        "outputId": "1f730ec9-a9ad-44d6-99bd-018d871fcc29"
      },
      "execution_count": null,
      "outputs": [
        {
          "output_type": "stream",
          "name": "stdout",
          "text": [
            "<class 'pandas.core.frame.DataFrame'>\n",
            "Int64Index: 106640 entries, 0 to 106639\n",
            "Data columns (total 18 columns):\n",
            " #   Column                  Non-Null Count   Dtype  \n",
            "---  ------                  --------------   -----  \n",
            " 0   msno                    106640 non-null  object \n",
            " 1   song_id                 106640 non-null  object \n",
            " 2   source_system_tab       106640 non-null  object \n",
            " 3   source_screen_name      106640 non-null  object \n",
            " 4   source_type             106640 non-null  object \n",
            " 5   target                  106640 non-null  float64\n",
            " 6   song_length             106640 non-null  float64\n",
            " 7   genre_ids               106640 non-null  object \n",
            " 8   artist_name             106640 non-null  object \n",
            " 9   composer                106640 non-null  object \n",
            " 10  lyricist                106640 non-null  object \n",
            " 11  language                106640 non-null  float64\n",
            " 12  city                    106640 non-null  int64  \n",
            " 13  bd                      106640 non-null  int64  \n",
            " 14  gender                  106640 non-null  object \n",
            " 15  registered_via          106640 non-null  int64  \n",
            " 16  registration_init_time  106640 non-null  int64  \n",
            " 17  expiration_date         106640 non-null  int64  \n",
            "dtypes: float64(3), int64(5), object(10)\n",
            "memory usage: 15.5+ MB\n"
          ]
        }
      ]
    },
    {
      "cell_type": "markdown",
      "source": [
        "Create dates"
      ],
      "metadata": {
        "id": "emDw_PjCaDvK"
      }
    },
    {
      "cell_type": "code",
      "source": [
        "df.registration_init_time = pd.to_datetime(df.registration_init_time, format='%Y%m%d', errors='ignore')\n",
        "df['registration_init_time_year'] = df['registration_init_time'].dt.year\n",
        "df['registration_init_time_month'] = df['registration_init_time'].dt.month\n",
        "df['registration_init_time_day'] = df['registration_init_time'].dt.day\n",
        "\n",
        "# expiration_date\n",
        "df.expiration_date = pd.to_datetime(df.expiration_date,  format='%Y%m%d', errors='ignore')\n",
        "df['expiration_date_year'] = df['expiration_date'].dt.year\n",
        "df['expiration_date_month'] = df['expiration_date'].dt.month\n",
        "df['expiration_date_day'] = df['expiration_date'].dt.day"
      ],
      "metadata": {
        "id": "xQqPQMndYWAZ"
      },
      "execution_count": null,
      "outputs": []
    },
    {
      "cell_type": "code",
      "source": [
        "df['registration_init_time'] = df['registration_init_time'].astype('category')\n",
        "df['expiration_date'] = df['expiration_date'].astype('category')"
      ],
      "metadata": {
        "id": "5HRfW3TcYYJf"
      },
      "execution_count": null,
      "outputs": []
    },
    {
      "cell_type": "code",
      "source": [
        "for col in df.select_dtypes(include=['object']).columns:\n",
        "    df[col] = df[col].astype('category')\n",
        "    \n",
        "# Encoding categorical features\n",
        "for col in df.select_dtypes(include=['category']).columns:\n",
        "    df[col] = df[col].cat.codes"
      ],
      "metadata": {
        "id": "OHeoaGvTYa9g"
      },
      "execution_count": null,
      "outputs": []
    },
    {
      "cell_type": "code",
      "source": [
        "df.corr()"
      ],
      "metadata": {
        "colab": {
          "base_uri": "https://localhost:8080/",
          "height": 895
        },
        "id": "RCdUlndGYdAL",
        "outputId": "52b4a92a-5dc2-4784-8bbb-395ce63eb5b1"
      },
      "execution_count": null,
      "outputs": [
        {
          "output_type": "execute_result",
          "data": {
            "text/plain": [
              "                                  msno   song_id  source_system_tab  \\\n",
              "msno                          1.000000 -0.003482           0.015984   \n",
              "song_id                      -0.003482  1.000000           0.000493   \n",
              "source_system_tab             0.015984  0.000493           1.000000   \n",
              "source_screen_name           -0.002401  0.002898          -0.054930   \n",
              "source_type                  -0.008278 -0.001107          -0.101610   \n",
              "target                        0.009924 -0.007066           0.069997   \n",
              "song_length                  -0.001608 -0.036781           0.016969   \n",
              "genre_ids                     0.002953  0.036228           0.016360   \n",
              "artist_name                  -0.000244 -0.016789           0.018030   \n",
              "composer                      0.006181 -0.028492           0.033902   \n",
              "lyricist                      0.003140 -0.048323           0.023520   \n",
              "language                     -0.010455  0.019447          -0.029560   \n",
              "city                          0.025366 -0.000049           0.022683   \n",
              "bd                           -0.004530  0.001098           0.010866   \n",
              "gender                       -0.011879 -0.000031          -0.014535   \n",
              "registered_via               -0.002274  0.001601           0.026175   \n",
              "registration_init_time        0.006473 -0.003757          -0.031769   \n",
              "expiration_date               0.033929  0.000375           0.060645   \n",
              "registration_init_time_year   0.005126 -0.003578          -0.024561   \n",
              "registration_init_time_month  0.018337 -0.001009          -0.029357   \n",
              "registration_init_time_day    0.007384  0.002644           0.011465   \n",
              "expiration_date_year          0.014115 -0.000257           0.052376   \n",
              "expiration_date_month         0.020065 -0.000621          -0.000214   \n",
              "expiration_date_day           0.000194  0.000701           0.016069   \n",
              "\n",
              "                              source_screen_name  source_type    target  \\\n",
              "msno                                   -0.002401    -0.008278  0.009924   \n",
              "song_id                                 0.002898    -0.001107 -0.007066   \n",
              "source_system_tab                      -0.054930    -0.101610  0.069997   \n",
              "source_screen_name                      1.000000     0.359795 -0.074206   \n",
              "source_type                             0.359795     1.000000 -0.152963   \n",
              "target                                 -0.074206    -0.152963  1.000000   \n",
              "song_length                             0.005691     0.010124  0.012973   \n",
              "genre_ids                              -0.000763    -0.019825 -0.001121   \n",
              "artist_name                             0.004959    -0.009523  0.016373   \n",
              "composer                                0.011044    -0.005096  0.000826   \n",
              "lyricist                                0.006128    -0.008678  0.006283   \n",
              "language                               -0.010955     0.012503 -0.025595   \n",
              "city                                   -0.023655    -0.014033  0.016564   \n",
              "bd                                     -0.018812     0.008478  0.003902   \n",
              "gender                                  0.027961     0.016574 -0.017382   \n",
              "registered_via                         -0.029684    -0.012455  0.012554   \n",
              "registration_init_time                  0.039891     0.012713 -0.001935   \n",
              "expiration_date                        -0.045011    -0.040387  0.093531   \n",
              "registration_init_time_year             0.036429     0.010324 -0.001252   \n",
              "registration_init_time_month            0.016594     0.009691 -0.006804   \n",
              "registration_init_time_day             -0.004889     0.004929  0.003563   \n",
              "expiration_date_year                   -0.040077    -0.042520  0.084600   \n",
              "expiration_date_month                   0.009588     0.018539 -0.022115   \n",
              "expiration_date_day                    -0.003085    -0.005435  0.019927   \n",
              "\n",
              "                              song_length  genre_ids  artist_name  composer  \\\n",
              "msno                            -0.001608   0.002953    -0.000244  0.006181   \n",
              "song_id                         -0.036781   0.036228    -0.016789 -0.028492   \n",
              "source_system_tab                0.016969   0.016360     0.018030  0.033902   \n",
              "source_screen_name               0.005691  -0.000763     0.004959  0.011044   \n",
              "source_type                      0.010124  -0.019825    -0.009523 -0.005096   \n",
              "target                           0.012973  -0.001121     0.016373  0.000826   \n",
              "song_length                      1.000000  -0.473024     0.025740 -0.031540   \n",
              "genre_ids                       -0.473024   1.000000     0.208014  0.222775   \n",
              "artist_name                      0.025740   0.208014     1.000000  0.353134   \n",
              "composer                        -0.031540   0.222775     0.353134  1.000000   \n",
              "lyricist                         0.092649   0.088680     0.308974  0.649369   \n",
              "language                         0.057188  -0.404258    -0.605498 -0.426647   \n",
              "city                             0.007381  -0.000983     0.019914  0.005990   \n",
              "bd                               0.005610  -0.006538     0.011293  0.003970   \n",
              "gender                          -0.000953   0.002934    -0.005085  0.006158   \n",
              "registered_via                   0.001995   0.003689    -0.000530 -0.002948   \n",
              "registration_init_time          -0.005401  -0.000187    -0.007812 -0.003373   \n",
              "expiration_date                  0.012712  -0.004189     0.010958  0.007646   \n",
              "registration_init_time_year     -0.004775  -0.000468    -0.008646 -0.003759   \n",
              "registration_init_time_month    -0.006395   0.004396     0.006534  0.005318   \n",
              "registration_init_time_day      -0.006992   0.001502    -0.007164 -0.000261   \n",
              "expiration_date_year             0.010636  -0.002221     0.009984  0.006502   \n",
              "expiration_date_month           -0.002619   0.002732    -0.000545  0.000648   \n",
              "expiration_date_day              0.000074   0.004506     0.003697  0.003275   \n",
              "\n",
              "                              ...    gender  registered_via  \\\n",
              "msno                          ... -0.011879       -0.002274   \n",
              "song_id                       ... -0.000031        0.001601   \n",
              "source_system_tab             ... -0.014535        0.026175   \n",
              "source_screen_name            ...  0.027961       -0.029684   \n",
              "source_type                   ...  0.016574       -0.012455   \n",
              "target                        ... -0.017382        0.012554   \n",
              "song_length                   ... -0.000953        0.001995   \n",
              "genre_ids                     ...  0.002934        0.003689   \n",
              "artist_name                   ... -0.005085       -0.000530   \n",
              "composer                      ...  0.006158       -0.002948   \n",
              "lyricist                      ...  0.005029       -0.002128   \n",
              "language                      ...  0.003649       -0.006201   \n",
              "city                          ... -0.515399        0.058933   \n",
              "bd                            ... -0.557541        0.087928   \n",
              "gender                        ...  1.000000       -0.067073   \n",
              "registered_via                ... -0.067073        1.000000   \n",
              "registration_init_time        ...  0.353041       -0.433710   \n",
              "expiration_date               ... -0.149827        0.144642   \n",
              "registration_init_time_year   ...  0.348222       -0.439534   \n",
              "registration_init_time_month  ...  0.036649       -0.042238   \n",
              "registration_init_time_day    ... -0.010643        0.015804   \n",
              "expiration_date_year          ... -0.144309        0.101566   \n",
              "expiration_date_month         ...  0.073957        0.009114   \n",
              "expiration_date_day           ... -0.024754        0.066455   \n",
              "\n",
              "                              registration_init_time  expiration_date  \\\n",
              "msno                                        0.006473         0.033929   \n",
              "song_id                                    -0.003757         0.000375   \n",
              "source_system_tab                          -0.031769         0.060645   \n",
              "source_screen_name                          0.039891        -0.045011   \n",
              "source_type                                 0.012713        -0.040387   \n",
              "target                                     -0.001935         0.093531   \n",
              "song_length                                -0.005401         0.012712   \n",
              "genre_ids                                  -0.000187        -0.004189   \n",
              "artist_name                                -0.007812         0.010958   \n",
              "composer                                   -0.003373         0.007646   \n",
              "lyricist                                   -0.000534         0.007515   \n",
              "language                                    0.005811        -0.006824   \n",
              "city                                       -0.285171         0.169030   \n",
              "bd                                         -0.333705         0.134410   \n",
              "gender                                      0.353041        -0.149827   \n",
              "registered_via                             -0.433710         0.144642   \n",
              "registration_init_time                      1.000000        -0.174347   \n",
              "expiration_date                            -0.174347         1.000000   \n",
              "registration_init_time_year                 0.988022        -0.158908   \n",
              "registration_init_time_month                0.092736        -0.072889   \n",
              "registration_init_time_day                 -0.013186         0.021922   \n",
              "expiration_date_year                       -0.124017         0.820358   \n",
              "expiration_date_month                       0.007340        -0.075764   \n",
              "expiration_date_day                        -0.087842         0.050244   \n",
              "\n",
              "                              registration_init_time_year  \\\n",
              "msno                                             0.005126   \n",
              "song_id                                         -0.003578   \n",
              "source_system_tab                               -0.024561   \n",
              "source_screen_name                               0.036429   \n",
              "source_type                                      0.010324   \n",
              "target                                          -0.001252   \n",
              "song_length                                     -0.004775   \n",
              "genre_ids                                       -0.000468   \n",
              "artist_name                                     -0.008646   \n",
              "composer                                        -0.003759   \n",
              "lyricist                                        -0.000558   \n",
              "language                                         0.007238   \n",
              "city                                            -0.278504   \n",
              "bd                                              -0.329028   \n",
              "gender                                           0.348222   \n",
              "registered_via                                  -0.439534   \n",
              "registration_init_time                           0.988022   \n",
              "expiration_date                                 -0.158908   \n",
              "registration_init_time_year                      1.000000   \n",
              "registration_init_time_month                    -0.014674   \n",
              "registration_init_time_day                      -0.024548   \n",
              "expiration_date_year                            -0.109539   \n",
              "expiration_date_month                            0.002949   \n",
              "expiration_date_day                             -0.089027   \n",
              "\n",
              "                              registration_init_time_month  \\\n",
              "msno                                              0.018337   \n",
              "song_id                                          -0.001009   \n",
              "source_system_tab                                -0.029357   \n",
              "source_screen_name                                0.016594   \n",
              "source_type                                       0.009691   \n",
              "target                                           -0.006804   \n",
              "song_length                                      -0.006395   \n",
              "genre_ids                                         0.004396   \n",
              "artist_name                                       0.006534   \n",
              "composer                                          0.005318   \n",
              "lyricist                                         -0.000410   \n",
              "language                                         -0.006018   \n",
              "city                                             -0.040673   \n",
              "bd                                               -0.026671   \n",
              "gender                                            0.036649   \n",
              "registered_via                                   -0.042238   \n",
              "registration_init_time                            0.092736   \n",
              "expiration_date                                  -0.072889   \n",
              "registration_init_time_year                      -0.014674   \n",
              "registration_init_time_month                      1.000000   \n",
              "registration_init_time_day                        0.025692   \n",
              "expiration_date_year                             -0.066071   \n",
              "expiration_date_month                             0.025518   \n",
              "expiration_date_day                              -0.028323   \n",
              "\n",
              "                              registration_init_time_day  \\\n",
              "msno                                            0.007384   \n",
              "song_id                                         0.002644   \n",
              "source_system_tab                               0.011465   \n",
              "source_screen_name                             -0.004889   \n",
              "source_type                                     0.004929   \n",
              "target                                          0.003563   \n",
              "song_length                                    -0.006992   \n",
              "genre_ids                                       0.001502   \n",
              "artist_name                                    -0.007164   \n",
              "composer                                       -0.000261   \n",
              "lyricist                                       -0.001591   \n",
              "language                                        0.014289   \n",
              "city                                            0.002582   \n",
              "bd                                             -0.002249   \n",
              "gender                                         -0.010643   \n",
              "registered_via                                  0.015804   \n",
              "registration_init_time                         -0.013186   \n",
              "expiration_date                                 0.021922   \n",
              "registration_init_time_year                    -0.024548   \n",
              "registration_init_time_month                    0.025692   \n",
              "registration_init_time_day                      1.000000   \n",
              "expiration_date_year                            0.011441   \n",
              "expiration_date_month                          -0.008112   \n",
              "expiration_date_day                             0.129697   \n",
              "\n",
              "                              expiration_date_year  expiration_date_month  \\\n",
              "msno                                      0.014115               0.020065   \n",
              "song_id                                  -0.000257              -0.000621   \n",
              "source_system_tab                         0.052376              -0.000214   \n",
              "source_screen_name                       -0.040077               0.009588   \n",
              "source_type                              -0.042520               0.018539   \n",
              "target                                    0.084600              -0.022115   \n",
              "song_length                               0.010636              -0.002619   \n",
              "genre_ids                                -0.002221               0.002732   \n",
              "artist_name                               0.009984              -0.000545   \n",
              "composer                                  0.006502               0.000648   \n",
              "lyricist                                  0.007661              -0.002642   \n",
              "language                                 -0.002792              -0.006525   \n",
              "city                                      0.146368              -0.039729   \n",
              "bd                                        0.119156              -0.039761   \n",
              "gender                                   -0.144309               0.073957   \n",
              "registered_via                            0.101566               0.009114   \n",
              "registration_init_time                   -0.124017               0.007340   \n",
              "expiration_date                           0.820358              -0.075764   \n",
              "registration_init_time_year              -0.109539               0.002949   \n",
              "registration_init_time_month             -0.066071               0.025518   \n",
              "registration_init_time_day                0.011441              -0.008112   \n",
              "expiration_date_year                      1.000000              -0.540021   \n",
              "expiration_date_month                    -0.540021               1.000000   \n",
              "expiration_date_day                      -0.004538              -0.042714   \n",
              "\n",
              "                              expiration_date_day  \n",
              "msno                                     0.000194  \n",
              "song_id                                  0.000701  \n",
              "source_system_tab                        0.016069  \n",
              "source_screen_name                      -0.003085  \n",
              "source_type                             -0.005435  \n",
              "target                                   0.019927  \n",
              "song_length                              0.000074  \n",
              "genre_ids                                0.004506  \n",
              "artist_name                              0.003697  \n",
              "composer                                 0.003275  \n",
              "lyricist                                 0.006163  \n",
              "language                                -0.001987  \n",
              "city                                     0.010452  \n",
              "bd                                       0.039256  \n",
              "gender                                  -0.024754  \n",
              "registered_via                           0.066455  \n",
              "registration_init_time                  -0.087842  \n",
              "expiration_date                          0.050244  \n",
              "registration_init_time_year             -0.089027  \n",
              "registration_init_time_month            -0.028323  \n",
              "registration_init_time_day               0.129697  \n",
              "expiration_date_year                    -0.004538  \n",
              "expiration_date_month                   -0.042714  \n",
              "expiration_date_day                      1.000000  \n",
              "\n",
              "[24 rows x 24 columns]"
            ],
            "text/html": [
              "\n",
              "  <div id=\"df-0c4e5f4a-6fc5-4bb7-aa48-46704aaef03f\">\n",
              "    <div class=\"colab-df-container\">\n",
              "      <div>\n",
              "<style scoped>\n",
              "    .dataframe tbody tr th:only-of-type {\n",
              "        vertical-align: middle;\n",
              "    }\n",
              "\n",
              "    .dataframe tbody tr th {\n",
              "        vertical-align: top;\n",
              "    }\n",
              "\n",
              "    .dataframe thead th {\n",
              "        text-align: right;\n",
              "    }\n",
              "</style>\n",
              "<table border=\"1\" class=\"dataframe\">\n",
              "  <thead>\n",
              "    <tr style=\"text-align: right;\">\n",
              "      <th></th>\n",
              "      <th>msno</th>\n",
              "      <th>song_id</th>\n",
              "      <th>source_system_tab</th>\n",
              "      <th>source_screen_name</th>\n",
              "      <th>source_type</th>\n",
              "      <th>target</th>\n",
              "      <th>song_length</th>\n",
              "      <th>genre_ids</th>\n",
              "      <th>artist_name</th>\n",
              "      <th>composer</th>\n",
              "      <th>...</th>\n",
              "      <th>gender</th>\n",
              "      <th>registered_via</th>\n",
              "      <th>registration_init_time</th>\n",
              "      <th>expiration_date</th>\n",
              "      <th>registration_init_time_year</th>\n",
              "      <th>registration_init_time_month</th>\n",
              "      <th>registration_init_time_day</th>\n",
              "      <th>expiration_date_year</th>\n",
              "      <th>expiration_date_month</th>\n",
              "      <th>expiration_date_day</th>\n",
              "    </tr>\n",
              "  </thead>\n",
              "  <tbody>\n",
              "    <tr>\n",
              "      <th>msno</th>\n",
              "      <td>1.000000</td>\n",
              "      <td>-0.003482</td>\n",
              "      <td>0.015984</td>\n",
              "      <td>-0.002401</td>\n",
              "      <td>-0.008278</td>\n",
              "      <td>0.009924</td>\n",
              "      <td>-0.001608</td>\n",
              "      <td>0.002953</td>\n",
              "      <td>-0.000244</td>\n",
              "      <td>0.006181</td>\n",
              "      <td>...</td>\n",
              "      <td>-0.011879</td>\n",
              "      <td>-0.002274</td>\n",
              "      <td>0.006473</td>\n",
              "      <td>0.033929</td>\n",
              "      <td>0.005126</td>\n",
              "      <td>0.018337</td>\n",
              "      <td>0.007384</td>\n",
              "      <td>0.014115</td>\n",
              "      <td>0.020065</td>\n",
              "      <td>0.000194</td>\n",
              "    </tr>\n",
              "    <tr>\n",
              "      <th>song_id</th>\n",
              "      <td>-0.003482</td>\n",
              "      <td>1.000000</td>\n",
              "      <td>0.000493</td>\n",
              "      <td>0.002898</td>\n",
              "      <td>-0.001107</td>\n",
              "      <td>-0.007066</td>\n",
              "      <td>-0.036781</td>\n",
              "      <td>0.036228</td>\n",
              "      <td>-0.016789</td>\n",
              "      <td>-0.028492</td>\n",
              "      <td>...</td>\n",
              "      <td>-0.000031</td>\n",
              "      <td>0.001601</td>\n",
              "      <td>-0.003757</td>\n",
              "      <td>0.000375</td>\n",
              "      <td>-0.003578</td>\n",
              "      <td>-0.001009</td>\n",
              "      <td>0.002644</td>\n",
              "      <td>-0.000257</td>\n",
              "      <td>-0.000621</td>\n",
              "      <td>0.000701</td>\n",
              "    </tr>\n",
              "    <tr>\n",
              "      <th>source_system_tab</th>\n",
              "      <td>0.015984</td>\n",
              "      <td>0.000493</td>\n",
              "      <td>1.000000</td>\n",
              "      <td>-0.054930</td>\n",
              "      <td>-0.101610</td>\n",
              "      <td>0.069997</td>\n",
              "      <td>0.016969</td>\n",
              "      <td>0.016360</td>\n",
              "      <td>0.018030</td>\n",
              "      <td>0.033902</td>\n",
              "      <td>...</td>\n",
              "      <td>-0.014535</td>\n",
              "      <td>0.026175</td>\n",
              "      <td>-0.031769</td>\n",
              "      <td>0.060645</td>\n",
              "      <td>-0.024561</td>\n",
              "      <td>-0.029357</td>\n",
              "      <td>0.011465</td>\n",
              "      <td>0.052376</td>\n",
              "      <td>-0.000214</td>\n",
              "      <td>0.016069</td>\n",
              "    </tr>\n",
              "    <tr>\n",
              "      <th>source_screen_name</th>\n",
              "      <td>-0.002401</td>\n",
              "      <td>0.002898</td>\n",
              "      <td>-0.054930</td>\n",
              "      <td>1.000000</td>\n",
              "      <td>0.359795</td>\n",
              "      <td>-0.074206</td>\n",
              "      <td>0.005691</td>\n",
              "      <td>-0.000763</td>\n",
              "      <td>0.004959</td>\n",
              "      <td>0.011044</td>\n",
              "      <td>...</td>\n",
              "      <td>0.027961</td>\n",
              "      <td>-0.029684</td>\n",
              "      <td>0.039891</td>\n",
              "      <td>-0.045011</td>\n",
              "      <td>0.036429</td>\n",
              "      <td>0.016594</td>\n",
              "      <td>-0.004889</td>\n",
              "      <td>-0.040077</td>\n",
              "      <td>0.009588</td>\n",
              "      <td>-0.003085</td>\n",
              "    </tr>\n",
              "    <tr>\n",
              "      <th>source_type</th>\n",
              "      <td>-0.008278</td>\n",
              "      <td>-0.001107</td>\n",
              "      <td>-0.101610</td>\n",
              "      <td>0.359795</td>\n",
              "      <td>1.000000</td>\n",
              "      <td>-0.152963</td>\n",
              "      <td>0.010124</td>\n",
              "      <td>-0.019825</td>\n",
              "      <td>-0.009523</td>\n",
              "      <td>-0.005096</td>\n",
              "      <td>...</td>\n",
              "      <td>0.016574</td>\n",
              "      <td>-0.012455</td>\n",
              "      <td>0.012713</td>\n",
              "      <td>-0.040387</td>\n",
              "      <td>0.010324</td>\n",
              "      <td>0.009691</td>\n",
              "      <td>0.004929</td>\n",
              "      <td>-0.042520</td>\n",
              "      <td>0.018539</td>\n",
              "      <td>-0.005435</td>\n",
              "    </tr>\n",
              "    <tr>\n",
              "      <th>target</th>\n",
              "      <td>0.009924</td>\n",
              "      <td>-0.007066</td>\n",
              "      <td>0.069997</td>\n",
              "      <td>-0.074206</td>\n",
              "      <td>-0.152963</td>\n",
              "      <td>1.000000</td>\n",
              "      <td>0.012973</td>\n",
              "      <td>-0.001121</td>\n",
              "      <td>0.016373</td>\n",
              "      <td>0.000826</td>\n",
              "      <td>...</td>\n",
              "      <td>-0.017382</td>\n",
              "      <td>0.012554</td>\n",
              "      <td>-0.001935</td>\n",
              "      <td>0.093531</td>\n",
              "      <td>-0.001252</td>\n",
              "      <td>-0.006804</td>\n",
              "      <td>0.003563</td>\n",
              "      <td>0.084600</td>\n",
              "      <td>-0.022115</td>\n",
              "      <td>0.019927</td>\n",
              "    </tr>\n",
              "    <tr>\n",
              "      <th>song_length</th>\n",
              "      <td>-0.001608</td>\n",
              "      <td>-0.036781</td>\n",
              "      <td>0.016969</td>\n",
              "      <td>0.005691</td>\n",
              "      <td>0.010124</td>\n",
              "      <td>0.012973</td>\n",
              "      <td>1.000000</td>\n",
              "      <td>-0.473024</td>\n",
              "      <td>0.025740</td>\n",
              "      <td>-0.031540</td>\n",
              "      <td>...</td>\n",
              "      <td>-0.000953</td>\n",
              "      <td>0.001995</td>\n",
              "      <td>-0.005401</td>\n",
              "      <td>0.012712</td>\n",
              "      <td>-0.004775</td>\n",
              "      <td>-0.006395</td>\n",
              "      <td>-0.006992</td>\n",
              "      <td>0.010636</td>\n",
              "      <td>-0.002619</td>\n",
              "      <td>0.000074</td>\n",
              "    </tr>\n",
              "    <tr>\n",
              "      <th>genre_ids</th>\n",
              "      <td>0.002953</td>\n",
              "      <td>0.036228</td>\n",
              "      <td>0.016360</td>\n",
              "      <td>-0.000763</td>\n",
              "      <td>-0.019825</td>\n",
              "      <td>-0.001121</td>\n",
              "      <td>-0.473024</td>\n",
              "      <td>1.000000</td>\n",
              "      <td>0.208014</td>\n",
              "      <td>0.222775</td>\n",
              "      <td>...</td>\n",
              "      <td>0.002934</td>\n",
              "      <td>0.003689</td>\n",
              "      <td>-0.000187</td>\n",
              "      <td>-0.004189</td>\n",
              "      <td>-0.000468</td>\n",
              "      <td>0.004396</td>\n",
              "      <td>0.001502</td>\n",
              "      <td>-0.002221</td>\n",
              "      <td>0.002732</td>\n",
              "      <td>0.004506</td>\n",
              "    </tr>\n",
              "    <tr>\n",
              "      <th>artist_name</th>\n",
              "      <td>-0.000244</td>\n",
              "      <td>-0.016789</td>\n",
              "      <td>0.018030</td>\n",
              "      <td>0.004959</td>\n",
              "      <td>-0.009523</td>\n",
              "      <td>0.016373</td>\n",
              "      <td>0.025740</td>\n",
              "      <td>0.208014</td>\n",
              "      <td>1.000000</td>\n",
              "      <td>0.353134</td>\n",
              "      <td>...</td>\n",
              "      <td>-0.005085</td>\n",
              "      <td>-0.000530</td>\n",
              "      <td>-0.007812</td>\n",
              "      <td>0.010958</td>\n",
              "      <td>-0.008646</td>\n",
              "      <td>0.006534</td>\n",
              "      <td>-0.007164</td>\n",
              "      <td>0.009984</td>\n",
              "      <td>-0.000545</td>\n",
              "      <td>0.003697</td>\n",
              "    </tr>\n",
              "    <tr>\n",
              "      <th>composer</th>\n",
              "      <td>0.006181</td>\n",
              "      <td>-0.028492</td>\n",
              "      <td>0.033902</td>\n",
              "      <td>0.011044</td>\n",
              "      <td>-0.005096</td>\n",
              "      <td>0.000826</td>\n",
              "      <td>-0.031540</td>\n",
              "      <td>0.222775</td>\n",
              "      <td>0.353134</td>\n",
              "      <td>1.000000</td>\n",
              "      <td>...</td>\n",
              "      <td>0.006158</td>\n",
              "      <td>-0.002948</td>\n",
              "      <td>-0.003373</td>\n",
              "      <td>0.007646</td>\n",
              "      <td>-0.003759</td>\n",
              "      <td>0.005318</td>\n",
              "      <td>-0.000261</td>\n",
              "      <td>0.006502</td>\n",
              "      <td>0.000648</td>\n",
              "      <td>0.003275</td>\n",
              "    </tr>\n",
              "    <tr>\n",
              "      <th>lyricist</th>\n",
              "      <td>0.003140</td>\n",
              "      <td>-0.048323</td>\n",
              "      <td>0.023520</td>\n",
              "      <td>0.006128</td>\n",
              "      <td>-0.008678</td>\n",
              "      <td>0.006283</td>\n",
              "      <td>0.092649</td>\n",
              "      <td>0.088680</td>\n",
              "      <td>0.308974</td>\n",
              "      <td>0.649369</td>\n",
              "      <td>...</td>\n",
              "      <td>0.005029</td>\n",
              "      <td>-0.002128</td>\n",
              "      <td>-0.000534</td>\n",
              "      <td>0.007515</td>\n",
              "      <td>-0.000558</td>\n",
              "      <td>-0.000410</td>\n",
              "      <td>-0.001591</td>\n",
              "      <td>0.007661</td>\n",
              "      <td>-0.002642</td>\n",
              "      <td>0.006163</td>\n",
              "    </tr>\n",
              "    <tr>\n",
              "      <th>language</th>\n",
              "      <td>-0.010455</td>\n",
              "      <td>0.019447</td>\n",
              "      <td>-0.029560</td>\n",
              "      <td>-0.010955</td>\n",
              "      <td>0.012503</td>\n",
              "      <td>-0.025595</td>\n",
              "      <td>0.057188</td>\n",
              "      <td>-0.404258</td>\n",
              "      <td>-0.605498</td>\n",
              "      <td>-0.426647</td>\n",
              "      <td>...</td>\n",
              "      <td>0.003649</td>\n",
              "      <td>-0.006201</td>\n",
              "      <td>0.005811</td>\n",
              "      <td>-0.006824</td>\n",
              "      <td>0.007238</td>\n",
              "      <td>-0.006018</td>\n",
              "      <td>0.014289</td>\n",
              "      <td>-0.002792</td>\n",
              "      <td>-0.006525</td>\n",
              "      <td>-0.001987</td>\n",
              "    </tr>\n",
              "    <tr>\n",
              "      <th>city</th>\n",
              "      <td>0.025366</td>\n",
              "      <td>-0.000049</td>\n",
              "      <td>0.022683</td>\n",
              "      <td>-0.023655</td>\n",
              "      <td>-0.014033</td>\n",
              "      <td>0.016564</td>\n",
              "      <td>0.007381</td>\n",
              "      <td>-0.000983</td>\n",
              "      <td>0.019914</td>\n",
              "      <td>0.005990</td>\n",
              "      <td>...</td>\n",
              "      <td>-0.515399</td>\n",
              "      <td>0.058933</td>\n",
              "      <td>-0.285171</td>\n",
              "      <td>0.169030</td>\n",
              "      <td>-0.278504</td>\n",
              "      <td>-0.040673</td>\n",
              "      <td>0.002582</td>\n",
              "      <td>0.146368</td>\n",
              "      <td>-0.039729</td>\n",
              "      <td>0.010452</td>\n",
              "    </tr>\n",
              "    <tr>\n",
              "      <th>bd</th>\n",
              "      <td>-0.004530</td>\n",
              "      <td>0.001098</td>\n",
              "      <td>0.010866</td>\n",
              "      <td>-0.018812</td>\n",
              "      <td>0.008478</td>\n",
              "      <td>0.003902</td>\n",
              "      <td>0.005610</td>\n",
              "      <td>-0.006538</td>\n",
              "      <td>0.011293</td>\n",
              "      <td>0.003970</td>\n",
              "      <td>...</td>\n",
              "      <td>-0.557541</td>\n",
              "      <td>0.087928</td>\n",
              "      <td>-0.333705</td>\n",
              "      <td>0.134410</td>\n",
              "      <td>-0.329028</td>\n",
              "      <td>-0.026671</td>\n",
              "      <td>-0.002249</td>\n",
              "      <td>0.119156</td>\n",
              "      <td>-0.039761</td>\n",
              "      <td>0.039256</td>\n",
              "    </tr>\n",
              "    <tr>\n",
              "      <th>gender</th>\n",
              "      <td>-0.011879</td>\n",
              "      <td>-0.000031</td>\n",
              "      <td>-0.014535</td>\n",
              "      <td>0.027961</td>\n",
              "      <td>0.016574</td>\n",
              "      <td>-0.017382</td>\n",
              "      <td>-0.000953</td>\n",
              "      <td>0.002934</td>\n",
              "      <td>-0.005085</td>\n",
              "      <td>0.006158</td>\n",
              "      <td>...</td>\n",
              "      <td>1.000000</td>\n",
              "      <td>-0.067073</td>\n",
              "      <td>0.353041</td>\n",
              "      <td>-0.149827</td>\n",
              "      <td>0.348222</td>\n",
              "      <td>0.036649</td>\n",
              "      <td>-0.010643</td>\n",
              "      <td>-0.144309</td>\n",
              "      <td>0.073957</td>\n",
              "      <td>-0.024754</td>\n",
              "    </tr>\n",
              "    <tr>\n",
              "      <th>registered_via</th>\n",
              "      <td>-0.002274</td>\n",
              "      <td>0.001601</td>\n",
              "      <td>0.026175</td>\n",
              "      <td>-0.029684</td>\n",
              "      <td>-0.012455</td>\n",
              "      <td>0.012554</td>\n",
              "      <td>0.001995</td>\n",
              "      <td>0.003689</td>\n",
              "      <td>-0.000530</td>\n",
              "      <td>-0.002948</td>\n",
              "      <td>...</td>\n",
              "      <td>-0.067073</td>\n",
              "      <td>1.000000</td>\n",
              "      <td>-0.433710</td>\n",
              "      <td>0.144642</td>\n",
              "      <td>-0.439534</td>\n",
              "      <td>-0.042238</td>\n",
              "      <td>0.015804</td>\n",
              "      <td>0.101566</td>\n",
              "      <td>0.009114</td>\n",
              "      <td>0.066455</td>\n",
              "    </tr>\n",
              "    <tr>\n",
              "      <th>registration_init_time</th>\n",
              "      <td>0.006473</td>\n",
              "      <td>-0.003757</td>\n",
              "      <td>-0.031769</td>\n",
              "      <td>0.039891</td>\n",
              "      <td>0.012713</td>\n",
              "      <td>-0.001935</td>\n",
              "      <td>-0.005401</td>\n",
              "      <td>-0.000187</td>\n",
              "      <td>-0.007812</td>\n",
              "      <td>-0.003373</td>\n",
              "      <td>...</td>\n",
              "      <td>0.353041</td>\n",
              "      <td>-0.433710</td>\n",
              "      <td>1.000000</td>\n",
              "      <td>-0.174347</td>\n",
              "      <td>0.988022</td>\n",
              "      <td>0.092736</td>\n",
              "      <td>-0.013186</td>\n",
              "      <td>-0.124017</td>\n",
              "      <td>0.007340</td>\n",
              "      <td>-0.087842</td>\n",
              "    </tr>\n",
              "    <tr>\n",
              "      <th>expiration_date</th>\n",
              "      <td>0.033929</td>\n",
              "      <td>0.000375</td>\n",
              "      <td>0.060645</td>\n",
              "      <td>-0.045011</td>\n",
              "      <td>-0.040387</td>\n",
              "      <td>0.093531</td>\n",
              "      <td>0.012712</td>\n",
              "      <td>-0.004189</td>\n",
              "      <td>0.010958</td>\n",
              "      <td>0.007646</td>\n",
              "      <td>...</td>\n",
              "      <td>-0.149827</td>\n",
              "      <td>0.144642</td>\n",
              "      <td>-0.174347</td>\n",
              "      <td>1.000000</td>\n",
              "      <td>-0.158908</td>\n",
              "      <td>-0.072889</td>\n",
              "      <td>0.021922</td>\n",
              "      <td>0.820358</td>\n",
              "      <td>-0.075764</td>\n",
              "      <td>0.050244</td>\n",
              "    </tr>\n",
              "    <tr>\n",
              "      <th>registration_init_time_year</th>\n",
              "      <td>0.005126</td>\n",
              "      <td>-0.003578</td>\n",
              "      <td>-0.024561</td>\n",
              "      <td>0.036429</td>\n",
              "      <td>0.010324</td>\n",
              "      <td>-0.001252</td>\n",
              "      <td>-0.004775</td>\n",
              "      <td>-0.000468</td>\n",
              "      <td>-0.008646</td>\n",
              "      <td>-0.003759</td>\n",
              "      <td>...</td>\n",
              "      <td>0.348222</td>\n",
              "      <td>-0.439534</td>\n",
              "      <td>0.988022</td>\n",
              "      <td>-0.158908</td>\n",
              "      <td>1.000000</td>\n",
              "      <td>-0.014674</td>\n",
              "      <td>-0.024548</td>\n",
              "      <td>-0.109539</td>\n",
              "      <td>0.002949</td>\n",
              "      <td>-0.089027</td>\n",
              "    </tr>\n",
              "    <tr>\n",
              "      <th>registration_init_time_month</th>\n",
              "      <td>0.018337</td>\n",
              "      <td>-0.001009</td>\n",
              "      <td>-0.029357</td>\n",
              "      <td>0.016594</td>\n",
              "      <td>0.009691</td>\n",
              "      <td>-0.006804</td>\n",
              "      <td>-0.006395</td>\n",
              "      <td>0.004396</td>\n",
              "      <td>0.006534</td>\n",
              "      <td>0.005318</td>\n",
              "      <td>...</td>\n",
              "      <td>0.036649</td>\n",
              "      <td>-0.042238</td>\n",
              "      <td>0.092736</td>\n",
              "      <td>-0.072889</td>\n",
              "      <td>-0.014674</td>\n",
              "      <td>1.000000</td>\n",
              "      <td>0.025692</td>\n",
              "      <td>-0.066071</td>\n",
              "      <td>0.025518</td>\n",
              "      <td>-0.028323</td>\n",
              "    </tr>\n",
              "    <tr>\n",
              "      <th>registration_init_time_day</th>\n",
              "      <td>0.007384</td>\n",
              "      <td>0.002644</td>\n",
              "      <td>0.011465</td>\n",
              "      <td>-0.004889</td>\n",
              "      <td>0.004929</td>\n",
              "      <td>0.003563</td>\n",
              "      <td>-0.006992</td>\n",
              "      <td>0.001502</td>\n",
              "      <td>-0.007164</td>\n",
              "      <td>-0.000261</td>\n",
              "      <td>...</td>\n",
              "      <td>-0.010643</td>\n",
              "      <td>0.015804</td>\n",
              "      <td>-0.013186</td>\n",
              "      <td>0.021922</td>\n",
              "      <td>-0.024548</td>\n",
              "      <td>0.025692</td>\n",
              "      <td>1.000000</td>\n",
              "      <td>0.011441</td>\n",
              "      <td>-0.008112</td>\n",
              "      <td>0.129697</td>\n",
              "    </tr>\n",
              "    <tr>\n",
              "      <th>expiration_date_year</th>\n",
              "      <td>0.014115</td>\n",
              "      <td>-0.000257</td>\n",
              "      <td>0.052376</td>\n",
              "      <td>-0.040077</td>\n",
              "      <td>-0.042520</td>\n",
              "      <td>0.084600</td>\n",
              "      <td>0.010636</td>\n",
              "      <td>-0.002221</td>\n",
              "      <td>0.009984</td>\n",
              "      <td>0.006502</td>\n",
              "      <td>...</td>\n",
              "      <td>-0.144309</td>\n",
              "      <td>0.101566</td>\n",
              "      <td>-0.124017</td>\n",
              "      <td>0.820358</td>\n",
              "      <td>-0.109539</td>\n",
              "      <td>-0.066071</td>\n",
              "      <td>0.011441</td>\n",
              "      <td>1.000000</td>\n",
              "      <td>-0.540021</td>\n",
              "      <td>-0.004538</td>\n",
              "    </tr>\n",
              "    <tr>\n",
              "      <th>expiration_date_month</th>\n",
              "      <td>0.020065</td>\n",
              "      <td>-0.000621</td>\n",
              "      <td>-0.000214</td>\n",
              "      <td>0.009588</td>\n",
              "      <td>0.018539</td>\n",
              "      <td>-0.022115</td>\n",
              "      <td>-0.002619</td>\n",
              "      <td>0.002732</td>\n",
              "      <td>-0.000545</td>\n",
              "      <td>0.000648</td>\n",
              "      <td>...</td>\n",
              "      <td>0.073957</td>\n",
              "      <td>0.009114</td>\n",
              "      <td>0.007340</td>\n",
              "      <td>-0.075764</td>\n",
              "      <td>0.002949</td>\n",
              "      <td>0.025518</td>\n",
              "      <td>-0.008112</td>\n",
              "      <td>-0.540021</td>\n",
              "      <td>1.000000</td>\n",
              "      <td>-0.042714</td>\n",
              "    </tr>\n",
              "    <tr>\n",
              "      <th>expiration_date_day</th>\n",
              "      <td>0.000194</td>\n",
              "      <td>0.000701</td>\n",
              "      <td>0.016069</td>\n",
              "      <td>-0.003085</td>\n",
              "      <td>-0.005435</td>\n",
              "      <td>0.019927</td>\n",
              "      <td>0.000074</td>\n",
              "      <td>0.004506</td>\n",
              "      <td>0.003697</td>\n",
              "      <td>0.003275</td>\n",
              "      <td>...</td>\n",
              "      <td>-0.024754</td>\n",
              "      <td>0.066455</td>\n",
              "      <td>-0.087842</td>\n",
              "      <td>0.050244</td>\n",
              "      <td>-0.089027</td>\n",
              "      <td>-0.028323</td>\n",
              "      <td>0.129697</td>\n",
              "      <td>-0.004538</td>\n",
              "      <td>-0.042714</td>\n",
              "      <td>1.000000</td>\n",
              "    </tr>\n",
              "  </tbody>\n",
              "</table>\n",
              "<p>24 rows × 24 columns</p>\n",
              "</div>\n",
              "      <button class=\"colab-df-convert\" onclick=\"convertToInteractive('df-0c4e5f4a-6fc5-4bb7-aa48-46704aaef03f')\"\n",
              "              title=\"Convert this dataframe to an interactive table.\"\n",
              "              style=\"display:none;\">\n",
              "        \n",
              "  <svg xmlns=\"http://www.w3.org/2000/svg\" height=\"24px\"viewBox=\"0 0 24 24\"\n",
              "       width=\"24px\">\n",
              "    <path d=\"M0 0h24v24H0V0z\" fill=\"none\"/>\n",
              "    <path d=\"M18.56 5.44l.94 2.06.94-2.06 2.06-.94-2.06-.94-.94-2.06-.94 2.06-2.06.94zm-11 1L8.5 8.5l.94-2.06 2.06-.94-2.06-.94L8.5 2.5l-.94 2.06-2.06.94zm10 10l.94 2.06.94-2.06 2.06-.94-2.06-.94-.94-2.06-.94 2.06-2.06.94z\"/><path d=\"M17.41 7.96l-1.37-1.37c-.4-.4-.92-.59-1.43-.59-.52 0-1.04.2-1.43.59L10.3 9.45l-7.72 7.72c-.78.78-.78 2.05 0 2.83L4 21.41c.39.39.9.59 1.41.59.51 0 1.02-.2 1.41-.59l7.78-7.78 2.81-2.81c.8-.78.8-2.07 0-2.86zM5.41 20L4 18.59l7.72-7.72 1.47 1.35L5.41 20z\"/>\n",
              "  </svg>\n",
              "      </button>\n",
              "      \n",
              "  <style>\n",
              "    .colab-df-container {\n",
              "      display:flex;\n",
              "      flex-wrap:wrap;\n",
              "      gap: 12px;\n",
              "    }\n",
              "\n",
              "    .colab-df-convert {\n",
              "      background-color: #E8F0FE;\n",
              "      border: none;\n",
              "      border-radius: 50%;\n",
              "      cursor: pointer;\n",
              "      display: none;\n",
              "      fill: #1967D2;\n",
              "      height: 32px;\n",
              "      padding: 0 0 0 0;\n",
              "      width: 32px;\n",
              "    }\n",
              "\n",
              "    .colab-df-convert:hover {\n",
              "      background-color: #E2EBFA;\n",
              "      box-shadow: 0px 1px 2px rgba(60, 64, 67, 0.3), 0px 1px 3px 1px rgba(60, 64, 67, 0.15);\n",
              "      fill: #174EA6;\n",
              "    }\n",
              "\n",
              "    [theme=dark] .colab-df-convert {\n",
              "      background-color: #3B4455;\n",
              "      fill: #D2E3FC;\n",
              "    }\n",
              "\n",
              "    [theme=dark] .colab-df-convert:hover {\n",
              "      background-color: #434B5C;\n",
              "      box-shadow: 0px 1px 3px 1px rgba(0, 0, 0, 0.15);\n",
              "      filter: drop-shadow(0px 1px 2px rgba(0, 0, 0, 0.3));\n",
              "      fill: #FFFFFF;\n",
              "    }\n",
              "  </style>\n",
              "\n",
              "      <script>\n",
              "        const buttonEl =\n",
              "          document.querySelector('#df-0c4e5f4a-6fc5-4bb7-aa48-46704aaef03f button.colab-df-convert');\n",
              "        buttonEl.style.display =\n",
              "          google.colab.kernel.accessAllowed ? 'block' : 'none';\n",
              "\n",
              "        async function convertToInteractive(key) {\n",
              "          const element = document.querySelector('#df-0c4e5f4a-6fc5-4bb7-aa48-46704aaef03f');\n",
              "          const dataTable =\n",
              "            await google.colab.kernel.invokeFunction('convertToInteractive',\n",
              "                                                     [key], {});\n",
              "          if (!dataTable) return;\n",
              "\n",
              "          const docLinkHtml = 'Like what you see? Visit the ' +\n",
              "            '<a target=\"_blank\" href=https://colab.research.google.com/notebooks/data_table.ipynb>data table notebook</a>'\n",
              "            + ' to learn more about interactive tables.';\n",
              "          element.innerHTML = '';\n",
              "          dataTable['output_type'] = 'display_data';\n",
              "          await google.colab.output.renderOutput(dataTable, element);\n",
              "          const docLink = document.createElement('div');\n",
              "          docLink.innerHTML = docLinkHtml;\n",
              "          element.appendChild(docLink);\n",
              "        }\n",
              "      </script>\n",
              "    </div>\n",
              "  </div>\n",
              "  "
            ]
          },
          "metadata": {},
          "execution_count": 40
        }
      ]
    },
    {
      "cell_type": "code",
      "source": [
        "plt.figure(figsize=[7,5])\n",
        "sns.heatmap(df.corr())\n",
        "plt.show()"
      ],
      "metadata": {
        "colab": {
          "base_uri": "https://localhost:8080/",
          "height": 457
        },
        "id": "UyRXIohWYfUf",
        "outputId": "96a19135-7bdb-45df-ddcc-8d85741d1049"
      },
      "execution_count": null,
      "outputs": [
        {
          "output_type": "display_data",
          "data": {
            "text/plain": [
              "<Figure size 504x360 with 2 Axes>"
            ],
            "image/png": "[encoded data removed]"
          },
          "metadata": {
            "needs_background": "light"
          }
        }
      ]
    },
    {
      "cell_type": "markdown",
      "source": [
        "Random forest model"
      ],
      "metadata": {
        "id": "zDL6tEENaIJE"
      }
    },
    {
      "cell_type": "code",
      "source": [
        "model = ensemble.RandomForestClassifier(n_estimators=250, max_depth=25)\n",
        "model.fit(df[df.columns[df.columns != 'target']], df.target)"
      ],
      "metadata": {
        "colab": {
          "base_uri": "https://localhost:8080/"
        },
        "id": "CyHR_1FAYhT4",
        "outputId": "14e42370-76a1-47e6-936a-821932620c7b"
      },
      "execution_count": null,
      "outputs": [
        {
          "output_type": "execute_result",
          "data": {
            "text/plain": [
              "RandomForestClassifier(max_depth=25, n_estimators=250)"
            ]
          },
          "metadata": {},
          "execution_count": 42
        }
      ]
    },
    {
      "cell_type": "code",
      "source": [
        "df_plot = pd.DataFrame({'features': df.columns[df.columns != 'target'],\n",
        "                        'importances': model.feature_importances_})\n",
        "df_plot = df_plot.sort_values('importances', ascending=False)"
      ],
      "metadata": {
        "id": "5Xb4-9wOYjRD"
      },
      "execution_count": null,
      "outputs": []
    },
    {
      "cell_type": "code",
      "source": [
        "plt.figure(figsize=[11,5])\n",
        "sns.barplot(x = df_plot.importances, y = df_plot.features)\n",
        "plt.title('Importances of Features Plot')\n",
        "plt.show()"
      ],
      "metadata": {
        "colab": {
          "base_uri": "https://localhost:8080/",
          "height": 350
        },
        "id": "GtrOfd81YlLD",
        "outputId": "c4b01673-c2e7-4543-c28e-058cd9a95f96"
      },
      "execution_count": null,
      "outputs": [
        {
          "output_type": "display_data",
          "data": {
            "text/plain": [
              "<Figure size 792x360 with 1 Axes>"
            ],
            "image/png": "[encoded data removed]"
          },
          "metadata": {
            "needs_background": "light"
          }
        }
      ]
    },
    {
      "cell_type": "code",
      "source": [
        "model.feature_importances_"
      ],
      "metadata": {
        "colab": {
          "base_uri": "https://localhost:8080/"
        },
        "id": "chrXYgM7Ymz2",
        "outputId": "33dae50e-d832-46f4-8cf2-f3b608ded230"
      },
      "execution_count": null,
      "outputs": [
        {
          "output_type": "execute_result",
          "data": {
            "text/plain": [
              "array([0.06713634, 0.07411715, 0.04441558, 0.0627698 , 0.07642743,\n",
              "       0.06613125, 0.02866987, 0.06112272, 0.05392779, 0.04275949,\n",
              "       0.01743465, 0.02917951, 0.03545773, 0.01268556, 0.01493659,\n",
              "       0.06426163, 0.06072712, 0.02419965, 0.03597157, 0.05009   ,\n",
              "       0.00943032, 0.02296188, 0.04518638])"
            ]
          },
          "metadata": {},
          "execution_count": 45
        }
      ]
    },
    {
      "cell_type": "code",
      "source": [
        "df = df.drop(df_plot.features[df_plot.importances < 0.04].tolist(), 1)"
      ],
      "metadata": {
        "colab": {
          "base_uri": "https://localhost:8080/"
        },
        "id": "9V9pUgZQYo0T",
        "outputId": "a7ed9aff-d727-42b3-b4ad-cbc8158087f5"
      },
      "execution_count": null,
      "outputs": [
        {
          "output_type": "stream",
          "name": "stderr",
          "text": [
            "/usr/local/lib/python3.7/dist-packages/ipykernel_launcher.py:1: FutureWarning: In a future version of pandas all arguments of DataFrame.drop except for the argument 'labels' will be keyword-only\n",
            "  \"\"\"Entry point for launching an IPython kernel.\n"
          ]
        }
      ]
    },
    {
      "cell_type": "code",
      "source": [
        "list(df.columns)"
      ],
      "metadata": {
        "colab": {
          "base_uri": "https://localhost:8080/"
        },
        "id": "9dJt8CH-YqpW",
        "outputId": "16804bb2-bd32-45f0-b230-829a25ffe3df"
      },
      "execution_count": null,
      "outputs": [
        {
          "output_type": "execute_result",
          "data": {
            "text/plain": [
              "['msno',\n",
              " 'song_id',\n",
              " 'source_system_tab',\n",
              " 'source_screen_name',\n",
              " 'source_type',\n",
              " 'target',\n",
              " 'song_length',\n",
              " 'artist_name',\n",
              " 'composer',\n",
              " 'lyricist',\n",
              " 'registration_init_time',\n",
              " 'expiration_date',\n",
              " 'registration_init_time_day',\n",
              " 'expiration_date_day']"
            ]
          },
          "metadata": {},
          "execution_count": 47
        }
      ]
    },
    {
      "cell_type": "code",
      "source": [
        "target = df.pop('target')"
      ],
      "metadata": {
        "id": "V-IHJWYXYstr"
      },
      "execution_count": null,
      "outputs": []
    },
    {
      "cell_type": "code",
      "source": [
        "from sklearn.model_selection import train_test_split"
      ],
      "metadata": {
        "id": "PIH58kBmYujD"
      },
      "execution_count": null,
      "outputs": []
    },
    {
      "cell_type": "code",
      "source": [
        "train_data, test_data, train_labels, test_labels = train_test_split(df, target, test_size = 0.3)\n",
        "model = xgb.XGBClassifier(learning_rate=0.1, max_depth=15, min_child_weight=5, n_estimators=250)\n",
        "model.fit(train_data, train_labels)"
      ],
      "metadata": {
        "colab": {
          "base_uri": "https://localhost:8080/"
        },
        "id": "vYZ0uK9lYwZB",
        "outputId": "849f3f4b-4612-478e-f874-43585516f62f"
      },
      "execution_count": null,
      "outputs": [
        {
          "output_type": "execute_result",
          "data": {
            "text/plain": [
              "XGBClassifier(max_depth=15, min_child_weight=5, n_estimators=250)"
            ]
          },
          "metadata": {},
          "execution_count": 50
        }
      ]
    },
    {
      "cell_type": "code",
      "source": [
        "predict_labels = model.predict(test_data)\n",
        "print(metrics.classification_report(test_labels, predict_labels))"
      ],
      "metadata": {
        "colab": {
          "base_uri": "https://localhost:8080/"
        },
        "id": "63b61AhaYywN",
        "outputId": "4c288553-8414-4c44-acba-654939642719"
      },
      "execution_count": null,
      "outputs": [
        {
          "output_type": "stream",
          "name": "stdout",
          "text": [
            "              precision    recall  f1-score   support\n",
            "\n",
            "         0.0       0.66      0.45      0.53      9959\n",
            "         1.0       0.78      0.89      0.83     22033\n",
            "\n",
            "    accuracy                           0.76     31992\n",
            "   macro avg       0.72      0.67      0.68     31992\n",
            "weighted avg       0.74      0.76      0.74     31992\n",
            "\n"
          ]
        }
      ]
    },
    {
      "cell_type": "markdown",
      "source": [
        "**Conclusion**\n",
        "\n",
        "By using Random Forest Classifier we get accuracy of music recommendation system as 76%."
      ],
      "metadata": {
        "id": "xH4YpzjiZRnw"
      }
    }
  ]
}